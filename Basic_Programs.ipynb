{
 "cells": [
  {
   "cell_type": "markdown",
   "id": "dd5cd81c",
   "metadata": {},
   "source": [
    "### Ice-Cream Bill Generator"
   ]
  },
  {
   "cell_type": "code",
   "execution_count": 1,
   "id": "7b1d6271",
   "metadata": {},
   "outputs": [
    {
     "name": "stdout",
     "output_type": "stream",
     "text": [
      "{'Mon': [], 'Tue': [], 'Wed': [], 'Thu': [], 'Fri': [], 'Sat': [], 'Sun': []}\n",
      "Enter prices for:  Mon\n",
      "Enter price for chocolate 1: 1\n",
      "Enter price for chocolate 2: 2\n",
      "Enter price for chocolate 3: 3\n",
      "Enter price for chocolate 4: 4\n",
      "Enter price for chocolate 5: 5\n",
      "Enter prices for:  Tue\n",
      "Enter price for chocolate 1: 1\n",
      "Enter price for chocolate 2: 2\n",
      "Enter price for chocolate 3: 3\n",
      "Enter price for chocolate 4: 4\n",
      "Enter price for chocolate 5: 5\n",
      "Enter prices for:  Wed\n",
      "Enter price for chocolate 1: 1\n",
      "Enter price for chocolate 2: 2\n",
      "Enter price for chocolate 3: 3\n",
      "Enter price for chocolate 4: 4\n",
      "Enter price for chocolate 5: 5\n",
      "Enter prices for:  Thu\n",
      "Enter price for chocolate 1: 1\n",
      "Enter price for chocolate 2: 2\n",
      "Enter price for chocolate 3: 3\n",
      "Enter price for chocolate 4: 4\n",
      "Enter price for chocolate 5: 5\n",
      "Enter prices for:  Fri\n",
      "Enter price for chocolate 1: 1\n",
      "Enter price for chocolate 2: 2\n",
      "Enter price for chocolate 3: 3\n",
      "Enter price for chocolate 4: 4\n",
      "Enter price for chocolate 5: 5\n",
      "Enter prices for:  Sat\n",
      "Enter price for chocolate 1: 1\n",
      "Enter price for chocolate 2: 2\n",
      "Enter price for chocolate 3: 3\n",
      "Enter price for chocolate 4: 4\n",
      "Enter price for chocolate 5: 5\n",
      "Enter prices for:  Sun\n",
      "Enter price for chocolate 1: 1\n",
      "Enter price for chocolate 2: 2\n",
      "Enter price for chocolate 3: 3\n",
      "Enter price for chocolate 4: 4\n",
      "Enter price for chocolate 5: 5\n",
      "Total Bill Amount is  105.0 $\n"
     ]
    }
   ],
   "source": [
    "\"\"\" for loop is used to iterate through dictionary, \n",
    "    while to ensure we get unique prices for each chocolate I have used a while loop\"\"\"\n",
    "\n",
    "#dictionary storing bill for 7 days \n",
    "bill_dict = {'Mon':[], 'Tue':[], 'Wed':[], 'Thu':[], 'Fri':[], 'Sat':[], 'Sun':[]} \n",
    "print(bill_dict)\n",
    "\n",
    "# This function checks if the entered price for a chocolate is unique, for a day\n",
    "def check_price(Value, price):                                           \n",
    "    if Value == []:\n",
    "        return True\n",
    "    else:\n",
    "        if price in Value:\n",
    "            return False\n",
    "        else:\n",
    "            return True\n",
    "        \n",
    "# Here, each key in dictionary is updated with 5 chocolate prices. \n",
    "# If the price is repeated, then the user is asked for an input again\n",
    "for key in bill_dict:\n",
    "    print('Enter prices for: ', key)\n",
    "    for j in range(1,6):\n",
    "        while True:\n",
    "            price = float(input(\"Enter price for chocolate \" + str(j) + \": \"))\n",
    "            if check_price(bill_dict[key], price) == True:\n",
    "                bill_dict[key].append(price)\n",
    "                break\n",
    "            else:\n",
    "                print('Each chocolate shoud have a different value for a day! Please enter the price again')\n",
    "                continue\n",
    "\n",
    "print('Total Bill Amount is ', sum([sum(bill_dict[key]) for key in bill_dict]), '$')"
   ]
  },
  {
   "cell_type": "markdown",
   "id": "54de8690",
   "metadata": {},
   "source": [
    "### Numbergame"
   ]
  },
  {
   "cell_type": "code",
   "execution_count": 59,
   "id": "a80be4d8",
   "metadata": {},
   "outputs": [
    {
     "name": "stdout",
     "output_type": "stream",
     "text": [
      "From a range numbers, find all the numbers that are divisible by 7 but are not a multiple of 5\n",
      "Enter the starting value: 2\n",
      "Enter the stopping value: 50\n",
      "These are the numbers:\n",
      "7 14 21 28 42 49 "
     ]
    }
   ],
   "source": [
    "#Output: From a range numbers, find all the numbers that are divisible by 7 but are not a multiple of 5\n",
    "#        Enter the starting value: 1\n",
    "#        Enter the stopping value: 100\n",
    "#        These are the numbers:\n",
    "#        7 14 21 28 42 49 56 63 77 84 91 98 \n",
    "\n",
    "print('From a range numbers, find all the numbers that are divisible by 7 but are not a multiple of 5')\n",
    "start = int(input('Enter the starting value: '))\n",
    "stop =  int(input('Enter the stopping value: '))\n",
    "print('These are the numbers:')\n",
    "for i in range(start,stop+1):\n",
    "    if i % 7 == 0:\n",
    "        if i % 5 != 0:\n",
    "            print(i, end=' ')"
   ]
  },
  {
   "cell_type": "code",
   "execution_count": null,
   "id": "ad4c42bb",
   "metadata": {},
   "outputs": [],
   "source": [
    "# Fill in the blanks"
   ]
  },
  {
   "cell_type": "code",
   "execution_count": 58,
   "id": "d962d5d6",
   "metadata": {},
   "outputs": [
    {
     "name": "stdout",
     "output_type": "stream",
     "text": [
      "1 2 3 4 5 2 4 6 8 10 3 6 9 12 15 4 8 12 16 20 5 10 15 20 25 "
     ]
    }
   ],
   "source": [
    "# Output: 1 2 3 4 5 2 4 6 8 10 3 6 9 12 15 4 8 12 16 20 5 10 15 20 25 \n",
    "temp = [[i*j for j in range(1,6)]\n",
    "        for i in range(1,6)]\n",
    "for i in range(0,len(temp)):\n",
    "    for j in range(0,len(temp[i])):\n",
    "        print(temp[i][j], end =' ')"
   ]
  },
  {
   "cell_type": "code",
   "execution_count": 57,
   "id": "877022d6",
   "metadata": {},
   "outputs": [
    {
     "name": "stdout",
     "output_type": "stream",
     "text": [
      "1 2 3 4 5 2 4 6 8 10 3 6 9 12 15 4 8 12 16 20 5 10 15 20 25 "
     ]
    }
   ],
   "source": [
    "# ALternative\n",
    "for i in range(1,6):\n",
    "    for j in range(1,6):\n",
    "        print(i*j, end = ' ')"
   ]
  },
  {
   "cell_type": "code",
   "execution_count": 56,
   "id": "14b69427",
   "metadata": {},
   "outputs": [
    {
     "name": "stdout",
     "output_type": "stream",
     "text": [
      "1 2 3 4 5 2 4 6 8 10 3 6 9 12 15 4 8 12 16 20 5 10 15 20 25 "
     ]
    }
   ],
   "source": [
    "# Alternative\n",
    "temp = [print(i*j, end=' ') for j in range(1,6) \n",
    "                                for i in range(1,6)]"
   ]
  },
  {
   "cell_type": "code",
   "execution_count": 55,
   "id": "b79ab514",
   "metadata": {},
   "outputs": [
    {
     "name": "stdout",
     "output_type": "stream",
     "text": [
      "1 2 3 4 5 2 4 6 8 10 3 6 9 12 15 4 8 12 16 20 5 10 15 20 25 "
     ]
    }
   ],
   "source": [
    "# Alterntive\n",
    "for i in range(1,6):\n",
    "    j = i\n",
    "    for j in range(j,j*5+1,j):\n",
    "        print(j, end = ' ')\n"
   ]
  },
  {
   "cell_type": "markdown",
   "id": "a8e1e457",
   "metadata": {},
   "source": [
    "### Coin Flip Simulator"
   ]
  },
  {
   "cell_type": "code",
   "execution_count": 54,
   "id": "45cb19f8",
   "metadata": {},
   "outputs": [
    {
     "name": "stdout",
     "output_type": "stream",
     "text": [
      "Please enter the total number of times you want to toss the coin: 56\n",
      "Number of heads:  31 Number of Tails:  25\n",
      "Probability of getting a Head is 0.5535714285714286  while probability of getting a tail is  0.44642857142857145\n"
     ]
    }
   ],
   "source": [
    "#Output1: Please enter the total number of coin tosses you want to perform: 100\n",
    "#         Probability of getting a Head is 0.43\n",
    "#Output2: Please enter the total number of times you want to toss the coin: 500\n",
    "#         Probability of getting a Head is 0.494\n",
    "import random as rd\n",
    "\n",
    "# This function returns the samplespace for 'n' coin tosses\n",
    "def samplespace(number_of_tosses, Outcome):\n",
    "    Samplespace = []\n",
    "    for i in range(1,number_of_tosses+1):\n",
    "        Samplespace.append(rd.choice(Outcome))\n",
    "    return Samplespace;\n",
    "\n",
    "# function number_of_heads/2 returns the number of times we obtain Heads while \n",
    "# flipping coin 'n' number of times \n",
    "def number_of_heads(number_of_tosses, Outcome):\n",
    "    counting_heads = 0\n",
    "    for i in samplespace(number_of_tosses, Outcome):\n",
    "        if i == 'H':\n",
    "            counting_heads = counting_heads + 1\n",
    "    return counting_heads\n",
    "\n",
    "# Possible outcome for a single toss\n",
    "Outcome = ['H','T']                                 \n",
    "number_of_tosses = int(input('Please enter the total number of times you want to toss the coin: '))\n",
    "number_of_heads = number_of_heads(number_of_tosses, Outcome)\n",
    "number_of_tails = number_of_tosses - number_of_heads\n",
    "print('Number of heads: ', number_of_heads, 'Number of Tails: ', number_of_tails)\n",
    "print('Probability of getting a Head is', number_of_heads/number_of_tosses, ' while probability of getting a tail is ', number_of_tails/number_of_tosses)"
   ]
  },
  {
   "cell_type": "code",
   "execution_count": 53,
   "id": "1f84fb8a",
   "metadata": {},
   "outputs": [],
   "source": [
    "# Fill in the blanks"
   ]
  },
  {
   "cell_type": "code",
   "execution_count": 52,
   "id": "0b84664d",
   "metadata": {},
   "outputs": [
    {
     "name": "stdout",
     "output_type": "stream",
     "text": [
      "Enter a number from 1 through 20: 4\n",
      "\n",
      "1 2 3 4 \n",
      "5 6 7 8 \n",
      "9 10 11 12 \n",
      "13 14 15 16 "
     ]
    }
   ],
   "source": [
    "#Output: Enter a number from 1 through 20: 5\n",
    "\n",
    "#        1 2 3 4 5 \n",
    "#        6 7 8 9 10 \n",
    "#        11 12 13 14 15 \n",
    "#        16 17 18 19 20 \n",
    "#        21 22 23 24 25\n",
    "\n",
    "n = int(input('Enter a number from 1 through 20: '))\n",
    "for i in range(n):\n",
    "    str1 = i * n\n",
    "    print()\n",
    "    for j in range(n):\n",
    "        str = str1 + (j+1)\n",
    "        print(str, end = ' ')"
   ]
  },
  {
   "cell_type": "code",
   "execution_count": 51,
   "id": "f494d00b",
   "metadata": {},
   "outputs": [
    {
     "name": "stdout",
     "output_type": "stream",
     "text": [
      "Enter a number from 1 through 20: 3\n",
      "1 2 3\n",
      "4 5 6\n",
      "7 8 9\n"
     ]
    }
   ],
   "source": [
    "# Alternative\n",
    "n = int(input('Enter a number from 1 through 20: '))\n",
    "for i in range(1, (n**2)+1):\n",
    "    if i % n == 0:\n",
    "        print(i)\n",
    "    else:\n",
    "        print(i, end = ' ')"
   ]
  },
  {
   "cell_type": "markdown",
   "id": "157e1631",
   "metadata": {},
   "source": [
    "### Password Program"
   ]
  },
  {
   "cell_type": "code",
   "execution_count": 50,
   "id": "286367b2",
   "metadata": {},
   "outputs": [
    {
     "name": "stdout",
     "output_type": "stream",
     "text": [
      "Please enter the password (only 3 attempts allowed): Python\n",
      "Welcome to Python Programming!\n"
     ]
    }
   ],
   "source": [
    "def getpassword():\n",
    "    password = input('Please enter the password (only 3 attempts allowed): ')\n",
    "    return password\n",
    "\n",
    "attempts = 0\n",
    "hints = ('One of the longest living species of snakes', \n",
    "         'It is a general-purpose, versatile, and powerful programming language',\n",
    "         'Password is Python! ;)')\n",
    "\n",
    "while attempts < 3:\n",
    "    password = getpassword()    \n",
    "    if password == 'Python':\n",
    "        print('Welcome to Python Programming!')\n",
    "        break\n",
    "    else:\n",
    "        print('Hint: ', hints[attempts])\n",
    "        attempts = attempts + 1\n",
    "        continue\n",
    "\n",
    "if password != 'Python':\n",
    "    print('You have crossed the limits of entering password')"
   ]
  },
  {
   "cell_type": "markdown",
   "id": "0bbbedd7",
   "metadata": {},
   "source": [
    "### A Game of Chance"
   ]
  },
  {
   "cell_type": "code",
   "execution_count": 47,
   "id": "ff4df85c",
   "metadata": {},
   "outputs": [
    {
     "name": "stdout",
     "output_type": "stream",
     "text": [
      "You Win!! If the sum of dices in the first roll is 7 or 11 OR You roll the first point again in the subsequent attempts \n",
      "House Wins!! If the sum of dices is 2,3 or 12 on first roll OR You roll a 7 before making your point\n",
      "Rolling dice!\n",
      "You score:  10\n",
      "Rolling dice!\n",
      "You score:  6\n",
      "Rolling dice!\n",
      "You score:  9\n",
      "Rolling dice!\n",
      "You score:  6\n",
      "Rolling dice!\n",
      "You score:  9\n",
      "Rolling dice!\n",
      "You score:  8\n",
      "Rolling dice!\n",
      "You score:  6\n",
      "Rolling dice!\n",
      "House Wins! You lose! Your scored: 7\n"
     ]
    }
   ],
   "source": [
    "import random as rd\n",
    "\n",
    "# This function generates a random pair of outcome for each dice\n",
    "def tossing_dice():\n",
    "    return [rd.randint(1,6), rd.randint(1,6)]\n",
    "\n",
    "points = []\n",
    "print('You Win!! If the sum of dices in the first roll is 7 or 11 OR You roll the first point again in the subsequent attempts ')\n",
    "print('House Wins!! If the sum of dices is 2,3 or 12 on first roll OR You roll a 7 before making your point')\n",
    "while True:\n",
    "    print('Rolling dice!')\n",
    "    sum_of_dice = sum(tossing_dice())\n",
    "    points.append(sum_of_dice)\n",
    "    if (len(points) == 1 and (sum_of_dice == 7 or sum_of_dice == 11)) or (len(points) > 1 and sum_of_dice == points[0]):\n",
    "        print('You win! Your scored: ', sum_of_dice)\n",
    "        break\n",
    "    elif (len(points) == 1 and (sum_of_dice == 2 or sum_of_dice == 3 or sum_of_dice == 12)) or len(points) > 1 and sum_of_dice == 7:\n",
    "        print('House Wins! You lose! Your scored:', sum_of_dice)\n",
    "        break\n",
    "    else:\n",
    "        print('You scored: ', sum_of_dice)\n",
    "        continue"
   ]
  }
 ],
 "metadata": {
  "kernelspec": {
   "display_name": "Python 3 (ipykernel)",
   "language": "python",
   "name": "python3"
  },
  "language_info": {
   "codemirror_mode": {
    "name": "ipython",
    "version": 3
   },
   "file_extension": ".py",
   "mimetype": "text/x-python",
   "name": "python",
   "nbconvert_exporter": "python",
   "pygments_lexer": "ipython3",
   "version": "3.9.7"
  }
 },
 "nbformat": 4,
 "nbformat_minor": 5
}
